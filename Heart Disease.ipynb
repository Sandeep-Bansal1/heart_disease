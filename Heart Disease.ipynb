{
 "cells": [
  {
   "cell_type": "markdown",
   "metadata": {},
   "source": [
    "<div class=\"alert alert-info\">\n",
    "<h1><center><font color=red> HEART DISEASE PREDICTION USING LOGISTIC REGRESSION.<font></center></h1>\n",
    "\n",
    "\n",
    "</div>"
   ]
  },
  {
   "cell_type": "markdown",
   "metadata": {
    "toc": true
   },
   "source": [
    "<h1>Table of Contents<span class=\"tocSkip\"></span></h1>\n",
    "<div class=\"toc\"><ul class=\"toc-item\"><li><span><a href=\"#-HEART-DISEASE-PREDICTION-USING-LOGISTIC-REGRESSION.\" data-toc-modified-id=\"-HEART-DISEASE-PREDICTION-USING-LOGISTIC-REGRESSION.-1\"><span class=\"toc-item-num\">1&nbsp;&nbsp;</span><center><font color=\"red\"> HEART DISEASE PREDICTION USING LOGISTIC REGRESSION.<font></font></font></center></a></span></li><li><span><a href=\"#Research-Question\" data-toc-modified-id=\"Research-Question-2\"><span class=\"toc-item-num\">2&nbsp;&nbsp;</span>Research Question</a></span><ul class=\"toc-item\"><li><span><a href=\"#Data-Dictionary:\" data-toc-modified-id=\"Data-Dictionary:-2.1\"><span class=\"toc-item-num\">2.1&nbsp;&nbsp;</span>Data Dictionary:</a></span></li></ul></li><li><span><a href=\"#Import-Libraries\" data-toc-modified-id=\"Import-Libraries-3\"><span class=\"toc-item-num\">3&nbsp;&nbsp;</span>Import Libraries</a></span></li><li><span><a href=\"#Load-Data\" data-toc-modified-id=\"Load-Data-4\"><span class=\"toc-item-num\">4&nbsp;&nbsp;</span>Load Data</a></span></li><li><span><a href=\"#Exploratory-Data-Analysis-(EDA)\" data-toc-modified-id=\"Exploratory-Data-Analysis-(EDA)-5\"><span class=\"toc-item-num\">5&nbsp;&nbsp;</span>Exploratory Data Analysis (EDA)</a></span><ul class=\"toc-item\"><li><ul class=\"toc-item\"><li><span><a href=\"#Check-Null-Values\" data-toc-modified-id=\"Check-Null-Values-5.0.1\"><span class=\"toc-item-num\">5.0.1&nbsp;&nbsp;</span>Check Null Values</a></span></li><li><span><a href=\"#Determine-total-Null-values\" data-toc-modified-id=\"Determine-total-Null-values-5.0.2\"><span class=\"toc-item-num\">5.0.2&nbsp;&nbsp;</span>Determine total Null values</a></span></li><li><span><a href=\"#Calculate-percentage-of-entire-dataset-is-Null-values\" data-toc-modified-id=\"Calculate-percentage-of-entire-dataset-is-Null-values-5.0.3\"><span class=\"toc-item-num\">5.0.3&nbsp;&nbsp;</span>Calculate percentage of entire dataset is Null values</a></span></li><li><span><a href=\"#Data-Types\" data-toc-modified-id=\"Data-Types-5.0.4\"><span class=\"toc-item-num\">5.0.4&nbsp;&nbsp;</span>Data Types</a></span></li><li><span><a href=\"#Summery-Statistics\" data-toc-modified-id=\"Summery-Statistics-5.0.5\"><span class=\"toc-item-num\">5.0.5&nbsp;&nbsp;</span>Summery Statistics</a></span></li></ul></li><li><span><a href=\"#Visualizing-Outliers:\" data-toc-modified-id=\"Visualizing-Outliers:-5.1\"><span class=\"toc-item-num\">5.1&nbsp;&nbsp;</span>Visualizing Outliers:</a></span></li></ul></li><li><span><a href=\"#Feature-Engineering\" data-toc-modified-id=\"Feature-Engineering-6\"><span class=\"toc-item-num\">6&nbsp;&nbsp;</span>Feature Engineering</a></span><ul class=\"toc-item\"><li><ul class=\"toc-item\"><li><span><a href=\"#Handeling-Outliers\" data-toc-modified-id=\"Handeling-Outliers-6.0.1\"><span class=\"toc-item-num\">6.0.1&nbsp;&nbsp;</span>Handeling Outliers</a></span></li><li><span><a href=\"#Revisiting-Skewness-after-Outlier-handeling\" data-toc-modified-id=\"Revisiting-Skewness-after-Outlier-handeling-6.0.2\"><span class=\"toc-item-num\">6.0.2&nbsp;&nbsp;</span>Revisiting Skewness after Outlier handeling</a></span></li></ul></li><li><span><a href=\"#Logistic-Regression\" data-toc-modified-id=\"Logistic-Regression-6.1\"><span class=\"toc-item-num\">6.1&nbsp;&nbsp;</span>Logistic Regression</a></span></li><li><span><a href=\"#Interpreting-Results\" data-toc-modified-id=\"Interpreting-Results-6.2\"><span class=\"toc-item-num\">6.2&nbsp;&nbsp;</span>Interpreting Results</a></span></li><li><span><a href=\"#Train-Test-Split\" data-toc-modified-id=\"Train-Test-Split-6.3\"><span class=\"toc-item-num\">6.3&nbsp;&nbsp;</span>Train Test Split</a></span></li><li><span><a href=\"#Confusion-Matrix\" data-toc-modified-id=\"Confusion-Matrix-6.4\"><span class=\"toc-item-num\">6.4&nbsp;&nbsp;</span>Confusion Matrix</a></span></li><li><span><a href=\"#Model-Evaluation\" data-toc-modified-id=\"Model-Evaluation-6.5\"><span class=\"toc-item-num\">6.5&nbsp;&nbsp;</span>Model Evaluation</a></span></li><li><span><a href=\"#Precision\" data-toc-modified-id=\"Precision-6.6\"><span class=\"toc-item-num\">6.6&nbsp;&nbsp;</span>Precision</a></span></li><li><span><a href=\"#Recall\" data-toc-modified-id=\"Recall-6.7\"><span class=\"toc-item-num\">6.7&nbsp;&nbsp;</span>Recall</a></span></li><li><span><a href=\"#F1_Score\" data-toc-modified-id=\"F1_Score-6.8\"><span class=\"toc-item-num\">6.8&nbsp;&nbsp;</span>F1_Score</a></span></li><li><span><a href=\"#Area-Under-Curve\" data-toc-modified-id=\"Area-Under-Curve-6.9\"><span class=\"toc-item-num\">6.9&nbsp;&nbsp;</span>Area Under Curve</a></span></li></ul></li><li><span><a href=\"#Conclusion-Summary\" data-toc-modified-id=\"Conclusion-Summary-7\"><span class=\"toc-item-num\">7&nbsp;&nbsp;</span>Conclusion Summary</a></span></li></ul></div>"
   ]
  },
  {
   "cell_type": "markdown",
   "metadata": {},
   "source": [
    "# Research Question\n",
    "- Using Logistic Regression can we pinpoint the most relevant/risk factors of heart disease as well as predict the overall risk?\n"
   ]
  },
  {
   "cell_type": "markdown",
   "metadata": {},
   "source": [
    "## Data Dictionary:\n",
    "| Column Name              | Description                             \n",
    "| -------------            |-------------                             \n",
    "| Male                     | 1 = Male 0 = Female                     \n",
    "| Age                      |  Age of patient\n",
    "| Current Smoker           | Whether patient is a current smoker \n",
    "|cigsPerDay                | Number of cigarettes average in one day \n",
    "| BPmeds                   | Patient on BP meds or not.\n",
    "|PrevalentStroke           | Whether patient has history of stroke \n",
    "| PrevelantHyp             | Whether patient is hypersentive or not\n",
    "|diabetes                  | whether patient is diabetic\n",
    "| totChol                  | total cholesterol level\n",
    "| sysBP                    | Systolic blood pressure\n",
    "| diaBP                    | Diastolic Blood pressure\n",
    "| BMI                      | Body mass Index\n",
    "| heartRate                | Beats per minute\n",
    "|glucose                   |sugar level in blood\n",
    "|TenYearCHD                |10 year risk of CHD. 1 = Yes 0 = No"
   ]
  },
  {
   "cell_type": "markdown",
   "metadata": {},
   "source": [
    "# Import Libraries"
   ]
  },
  {
   "cell_type": "code",
   "execution_count": 89,
   "metadata": {},
   "outputs": [],
   "source": [
    "import pandas as pd # for manipulating data\n",
    "import numpy as np # Linear Algebra operations\n",
    "import matplotlib.pyplot as plt # for visualizations\n",
    "import matplotlib.mlab as mlab # for Visualization\n",
    "import statsmodels.api as sm #API for stat model eval\n",
    "from sklearn.linear_model import LogisticRegression #Model\n",
    "from sklearn.model_selection import train_test_split\n",
    "import seaborn as sns # for visualizations\n",
    "import scipy.stats as st #Stats\n",
    "from sklearn.metrics import confusion_matrix #True Positive False Negative\n"
   ]
  },
  {
   "cell_type": "markdown",
   "metadata": {},
   "source": [
    "# Load Data"
   ]
  },
  {
   "cell_type": "code",
   "execution_count": 5,
   "metadata": {},
   "outputs": [],
   "source": [
    "heart_df = pd.read_csv('framingham.csv')"
   ]
  },
  {
   "cell_type": "markdown",
   "metadata": {},
   "source": [
    "# Exploratory Data Analysis (EDA)"
   ]
  },
  {
   "cell_type": "code",
   "execution_count": 7,
   "metadata": {},
   "outputs": [
    {
     "data": {
      "text/html": [
       "<div>\n",
       "<style scoped>\n",
       "    .dataframe tbody tr th:only-of-type {\n",
       "        vertical-align: middle;\n",
       "    }\n",
       "\n",
       "    .dataframe tbody tr th {\n",
       "        vertical-align: top;\n",
       "    }\n",
       "\n",
       "    .dataframe thead th {\n",
       "        text-align: right;\n",
       "    }\n",
       "</style>\n",
       "<table border=\"1\" class=\"dataframe\">\n",
       "  <thead>\n",
       "    <tr style=\"text-align: right;\">\n",
       "      <th></th>\n",
       "      <th>male</th>\n",
       "      <th>age</th>\n",
       "      <th>education</th>\n",
       "      <th>currentSmoker</th>\n",
       "      <th>cigsPerDay</th>\n",
       "      <th>BPMeds</th>\n",
       "      <th>prevalentStroke</th>\n",
       "      <th>prevalentHyp</th>\n",
       "      <th>diabetes</th>\n",
       "      <th>totChol</th>\n",
       "      <th>sysBP</th>\n",
       "      <th>diaBP</th>\n",
       "      <th>BMI</th>\n",
       "      <th>heartRate</th>\n",
       "      <th>glucose</th>\n",
       "      <th>TenYearCHD</th>\n",
       "    </tr>\n",
       "  </thead>\n",
       "  <tbody>\n",
       "    <tr>\n",
       "      <th>0</th>\n",
       "      <td>1</td>\n",
       "      <td>39</td>\n",
       "      <td>4.0</td>\n",
       "      <td>0</td>\n",
       "      <td>0.0</td>\n",
       "      <td>0.0</td>\n",
       "      <td>0</td>\n",
       "      <td>0</td>\n",
       "      <td>0</td>\n",
       "      <td>195.0</td>\n",
       "      <td>106.0</td>\n",
       "      <td>70.0</td>\n",
       "      <td>26.97</td>\n",
       "      <td>80.0</td>\n",
       "      <td>77.0</td>\n",
       "      <td>0</td>\n",
       "    </tr>\n",
       "    <tr>\n",
       "      <th>1</th>\n",
       "      <td>0</td>\n",
       "      <td>46</td>\n",
       "      <td>2.0</td>\n",
       "      <td>0</td>\n",
       "      <td>0.0</td>\n",
       "      <td>0.0</td>\n",
       "      <td>0</td>\n",
       "      <td>0</td>\n",
       "      <td>0</td>\n",
       "      <td>250.0</td>\n",
       "      <td>121.0</td>\n",
       "      <td>81.0</td>\n",
       "      <td>28.73</td>\n",
       "      <td>95.0</td>\n",
       "      <td>76.0</td>\n",
       "      <td>0</td>\n",
       "    </tr>\n",
       "    <tr>\n",
       "      <th>2</th>\n",
       "      <td>1</td>\n",
       "      <td>48</td>\n",
       "      <td>1.0</td>\n",
       "      <td>1</td>\n",
       "      <td>20.0</td>\n",
       "      <td>0.0</td>\n",
       "      <td>0</td>\n",
       "      <td>0</td>\n",
       "      <td>0</td>\n",
       "      <td>245.0</td>\n",
       "      <td>127.5</td>\n",
       "      <td>80.0</td>\n",
       "      <td>25.34</td>\n",
       "      <td>75.0</td>\n",
       "      <td>70.0</td>\n",
       "      <td>0</td>\n",
       "    </tr>\n",
       "    <tr>\n",
       "      <th>3</th>\n",
       "      <td>0</td>\n",
       "      <td>61</td>\n",
       "      <td>3.0</td>\n",
       "      <td>1</td>\n",
       "      <td>30.0</td>\n",
       "      <td>0.0</td>\n",
       "      <td>0</td>\n",
       "      <td>1</td>\n",
       "      <td>0</td>\n",
       "      <td>225.0</td>\n",
       "      <td>150.0</td>\n",
       "      <td>95.0</td>\n",
       "      <td>28.58</td>\n",
       "      <td>65.0</td>\n",
       "      <td>103.0</td>\n",
       "      <td>1</td>\n",
       "    </tr>\n",
       "    <tr>\n",
       "      <th>4</th>\n",
       "      <td>0</td>\n",
       "      <td>46</td>\n",
       "      <td>3.0</td>\n",
       "      <td>1</td>\n",
       "      <td>23.0</td>\n",
       "      <td>0.0</td>\n",
       "      <td>0</td>\n",
       "      <td>0</td>\n",
       "      <td>0</td>\n",
       "      <td>285.0</td>\n",
       "      <td>130.0</td>\n",
       "      <td>84.0</td>\n",
       "      <td>23.10</td>\n",
       "      <td>85.0</td>\n",
       "      <td>85.0</td>\n",
       "      <td>0</td>\n",
       "    </tr>\n",
       "  </tbody>\n",
       "</table>\n",
       "</div>"
      ],
      "text/plain": [
       "   male  age  education  currentSmoker  cigsPerDay  BPMeds  prevalentStroke  \\\n",
       "0     1   39        4.0              0         0.0     0.0                0   \n",
       "1     0   46        2.0              0         0.0     0.0                0   \n",
       "2     1   48        1.0              1        20.0     0.0                0   \n",
       "3     0   61        3.0              1        30.0     0.0                0   \n",
       "4     0   46        3.0              1        23.0     0.0                0   \n",
       "\n",
       "   prevalentHyp  diabetes  totChol  sysBP  diaBP    BMI  heartRate  glucose  \\\n",
       "0             0         0    195.0  106.0   70.0  26.97       80.0     77.0   \n",
       "1             0         0    250.0  121.0   81.0  28.73       95.0     76.0   \n",
       "2             0         0    245.0  127.5   80.0  25.34       75.0     70.0   \n",
       "3             1         0    225.0  150.0   95.0  28.58       65.0    103.0   \n",
       "4             0         0    285.0  130.0   84.0  23.10       85.0     85.0   \n",
       "\n",
       "   TenYearCHD  \n",
       "0           0  \n",
       "1           0  \n",
       "2           0  \n",
       "3           1  \n",
       "4           0  "
      ]
     },
     "execution_count": 7,
     "metadata": {},
     "output_type": "execute_result"
    }
   ],
   "source": [
    "heart_df.head()"
   ]
  },
  {
   "cell_type": "markdown",
   "metadata": {},
   "source": [
    "### Check Null Values"
   ]
  },
  {
   "cell_type": "markdown",
   "metadata": {},
   "source": [
    "Exploring the possibility of missing values. There are no missing values in this dataset. "
   ]
  },
  {
   "cell_type": "code",
   "execution_count": 6,
   "metadata": {},
   "outputs": [
    {
     "data": {
      "text/plain": [
       "male                 0\n",
       "age                  0\n",
       "education          105\n",
       "currentSmoker        0\n",
       "cigsPerDay          29\n",
       "BPMeds              53\n",
       "prevalentStroke      0\n",
       "prevalentHyp         0\n",
       "diabetes             0\n",
       "totChol             50\n",
       "sysBP                0\n",
       "diaBP                0\n",
       "BMI                 19\n",
       "heartRate            1\n",
       "glucose            388\n",
       "TenYearCHD           0\n",
       "dtype: int64"
      ]
     },
     "execution_count": 6,
     "metadata": {},
     "output_type": "execute_result"
    }
   ],
   "source": [
    "heart_df.isnull().sum()"
   ]
  },
  {
   "cell_type": "markdown",
   "metadata": {},
   "source": [
    "### Determine total Null values \n",
    "Total number of rows missing value is  582"
   ]
  },
  {
   "cell_type": "code",
   "execution_count": 10,
   "metadata": {},
   "outputs": [
    {
     "name": "stdout",
     "output_type": "stream",
     "text": [
      "Total number of rows missing value is  582\n"
     ]
    }
   ],
   "source": [
    "count = 0\n",
    "for number in heart_df.isnull().sum(axis = 1):\n",
    "    if number > 0:\n",
    "        count = count+1\n",
    "print('Total number of rows missing value is ',count)"
   ]
  },
  {
   "cell_type": "markdown",
   "metadata": {},
   "source": [
    "### Calculate percentage of entire dataset is Null values\n",
    "This equals to 14 percent of the entire dataset with missing values.\n"
   ]
  },
  {
   "cell_type": "code",
   "execution_count": 15,
   "metadata": {},
   "outputs": [
    {
     "name": "stdout",
     "output_type": "stream",
     "text": [
      "This equals to 14 percent of the entire dataset with missing values.\n"
     ]
    }
   ],
   "source": [
    "print('This equals to',round((count/len(heart_df.index))*100), 'percent of the entire dataset with missing values.')"
   ]
  },
  {
   "cell_type": "code",
   "execution_count": 16,
   "metadata": {},
   "outputs": [],
   "source": [
    "heart_df.dropna(axis= 0, inplace= True)"
   ]
  },
  {
   "cell_type": "markdown",
   "metadata": {},
   "source": [
    "### Data Types"
   ]
  },
  {
   "cell_type": "markdown",
   "metadata": {},
   "source": [
    "Ensuring our data types are correct before doing further exploration. Our classes are numeric so this makes sense to see integers and floats. "
   ]
  },
  {
   "cell_type": "code",
   "execution_count": 17,
   "metadata": {},
   "outputs": [
    {
     "data": {
      "text/plain": [
       "male                 int64\n",
       "age                  int64\n",
       "education          float64\n",
       "currentSmoker        int64\n",
       "cigsPerDay         float64\n",
       "BPMeds             float64\n",
       "prevalentStroke      int64\n",
       "prevalentHyp         int64\n",
       "diabetes             int64\n",
       "totChol            float64\n",
       "sysBP              float64\n",
       "diaBP              float64\n",
       "BMI                float64\n",
       "heartRate          float64\n",
       "glucose            float64\n",
       "TenYearCHD           int64\n",
       "dtype: object"
      ]
     },
     "execution_count": 17,
     "metadata": {},
     "output_type": "execute_result"
    }
   ],
   "source": [
    "heart_df.dtypes"
   ]
  },
  {
   "cell_type": "markdown",
   "metadata": {},
   "source": [
    "### Summery Statistics"
   ]
  },
  {
   "cell_type": "markdown",
   "metadata": {},
   "source": [
    " "
   ]
  },
  {
   "cell_type": "code",
   "execution_count": 18,
   "metadata": {},
   "outputs": [
    {
     "data": {
      "text/html": [
       "<style  type=\"text/css\" >\n",
       "</style><table id=\"T_b05eb800_398f_11eb_8cdf_faffc2676ee1\" ><caption>There are 768 rows, with potential outliers.</caption><thead>    <tr>        <th class=\"blank level0\" ></th>        <th class=\"col_heading level0 col0\" >male</th>        <th class=\"col_heading level0 col1\" >age</th>        <th class=\"col_heading level0 col2\" >education</th>        <th class=\"col_heading level0 col3\" >currentSmoker</th>        <th class=\"col_heading level0 col4\" >cigsPerDay</th>        <th class=\"col_heading level0 col5\" >BPMeds</th>        <th class=\"col_heading level0 col6\" >prevalentStroke</th>        <th class=\"col_heading level0 col7\" >prevalentHyp</th>        <th class=\"col_heading level0 col8\" >diabetes</th>        <th class=\"col_heading level0 col9\" >totChol</th>        <th class=\"col_heading level0 col10\" >sysBP</th>        <th class=\"col_heading level0 col11\" >diaBP</th>        <th class=\"col_heading level0 col12\" >BMI</th>        <th class=\"col_heading level0 col13\" >heartRate</th>        <th class=\"col_heading level0 col14\" >glucose</th>        <th class=\"col_heading level0 col15\" >TenYearCHD</th>    </tr></thead><tbody>\n",
       "                <tr>\n",
       "                        <th id=\"T_b05eb800_398f_11eb_8cdf_faffc2676ee1level0_row0\" class=\"row_heading level0 row0\" >count</th>\n",
       "                        <td id=\"T_b05eb800_398f_11eb_8cdf_faffc2676ee1row0_col0\" class=\"data row0 col0\" >3658.000000</td>\n",
       "                        <td id=\"T_b05eb800_398f_11eb_8cdf_faffc2676ee1row0_col1\" class=\"data row0 col1\" >3658.000000</td>\n",
       "                        <td id=\"T_b05eb800_398f_11eb_8cdf_faffc2676ee1row0_col2\" class=\"data row0 col2\" >3658.000000</td>\n",
       "                        <td id=\"T_b05eb800_398f_11eb_8cdf_faffc2676ee1row0_col3\" class=\"data row0 col3\" >3658.000000</td>\n",
       "                        <td id=\"T_b05eb800_398f_11eb_8cdf_faffc2676ee1row0_col4\" class=\"data row0 col4\" >3658.000000</td>\n",
       "                        <td id=\"T_b05eb800_398f_11eb_8cdf_faffc2676ee1row0_col5\" class=\"data row0 col5\" >3658.000000</td>\n",
       "                        <td id=\"T_b05eb800_398f_11eb_8cdf_faffc2676ee1row0_col6\" class=\"data row0 col6\" >3658.000000</td>\n",
       "                        <td id=\"T_b05eb800_398f_11eb_8cdf_faffc2676ee1row0_col7\" class=\"data row0 col7\" >3658.000000</td>\n",
       "                        <td id=\"T_b05eb800_398f_11eb_8cdf_faffc2676ee1row0_col8\" class=\"data row0 col8\" >3658.000000</td>\n",
       "                        <td id=\"T_b05eb800_398f_11eb_8cdf_faffc2676ee1row0_col9\" class=\"data row0 col9\" >3658.000000</td>\n",
       "                        <td id=\"T_b05eb800_398f_11eb_8cdf_faffc2676ee1row0_col10\" class=\"data row0 col10\" >3658.000000</td>\n",
       "                        <td id=\"T_b05eb800_398f_11eb_8cdf_faffc2676ee1row0_col11\" class=\"data row0 col11\" >3658.000000</td>\n",
       "                        <td id=\"T_b05eb800_398f_11eb_8cdf_faffc2676ee1row0_col12\" class=\"data row0 col12\" >3658.000000</td>\n",
       "                        <td id=\"T_b05eb800_398f_11eb_8cdf_faffc2676ee1row0_col13\" class=\"data row0 col13\" >3658.000000</td>\n",
       "                        <td id=\"T_b05eb800_398f_11eb_8cdf_faffc2676ee1row0_col14\" class=\"data row0 col14\" >3658.000000</td>\n",
       "                        <td id=\"T_b05eb800_398f_11eb_8cdf_faffc2676ee1row0_col15\" class=\"data row0 col15\" >3658.000000</td>\n",
       "            </tr>\n",
       "            <tr>\n",
       "                        <th id=\"T_b05eb800_398f_11eb_8cdf_faffc2676ee1level0_row1\" class=\"row_heading level0 row1\" >mean</th>\n",
       "                        <td id=\"T_b05eb800_398f_11eb_8cdf_faffc2676ee1row1_col0\" class=\"data row1 col0\" >0.443685</td>\n",
       "                        <td id=\"T_b05eb800_398f_11eb_8cdf_faffc2676ee1row1_col1\" class=\"data row1 col1\" >49.551941</td>\n",
       "                        <td id=\"T_b05eb800_398f_11eb_8cdf_faffc2676ee1row1_col2\" class=\"data row1 col2\" >1.980317</td>\n",
       "                        <td id=\"T_b05eb800_398f_11eb_8cdf_faffc2676ee1row1_col3\" class=\"data row1 col3\" >0.489065</td>\n",
       "                        <td id=\"T_b05eb800_398f_11eb_8cdf_faffc2676ee1row1_col4\" class=\"data row1 col4\" >9.025424</td>\n",
       "                        <td id=\"T_b05eb800_398f_11eb_8cdf_faffc2676ee1row1_col5\" class=\"data row1 col5\" >0.030344</td>\n",
       "                        <td id=\"T_b05eb800_398f_11eb_8cdf_faffc2676ee1row1_col6\" class=\"data row1 col6\" >0.005741</td>\n",
       "                        <td id=\"T_b05eb800_398f_11eb_8cdf_faffc2676ee1row1_col7\" class=\"data row1 col7\" >0.311646</td>\n",
       "                        <td id=\"T_b05eb800_398f_11eb_8cdf_faffc2676ee1row1_col8\" class=\"data row1 col8\" >0.027064</td>\n",
       "                        <td id=\"T_b05eb800_398f_11eb_8cdf_faffc2676ee1row1_col9\" class=\"data row1 col9\" >236.847731</td>\n",
       "                        <td id=\"T_b05eb800_398f_11eb_8cdf_faffc2676ee1row1_col10\" class=\"data row1 col10\" >132.370558</td>\n",
       "                        <td id=\"T_b05eb800_398f_11eb_8cdf_faffc2676ee1row1_col11\" class=\"data row1 col11\" >82.917031</td>\n",
       "                        <td id=\"T_b05eb800_398f_11eb_8cdf_faffc2676ee1row1_col12\" class=\"data row1 col12\" >25.782802</td>\n",
       "                        <td id=\"T_b05eb800_398f_11eb_8cdf_faffc2676ee1row1_col13\" class=\"data row1 col13\" >75.730727</td>\n",
       "                        <td id=\"T_b05eb800_398f_11eb_8cdf_faffc2676ee1row1_col14\" class=\"data row1 col14\" >81.852925</td>\n",
       "                        <td id=\"T_b05eb800_398f_11eb_8cdf_faffc2676ee1row1_col15\" class=\"data row1 col15\" >0.152269</td>\n",
       "            </tr>\n",
       "            <tr>\n",
       "                        <th id=\"T_b05eb800_398f_11eb_8cdf_faffc2676ee1level0_row2\" class=\"row_heading level0 row2\" >std</th>\n",
       "                        <td id=\"T_b05eb800_398f_11eb_8cdf_faffc2676ee1row2_col0\" class=\"data row2 col0\" >0.496886</td>\n",
       "                        <td id=\"T_b05eb800_398f_11eb_8cdf_faffc2676ee1row2_col1\" class=\"data row2 col1\" >8.562029</td>\n",
       "                        <td id=\"T_b05eb800_398f_11eb_8cdf_faffc2676ee1row2_col2\" class=\"data row2 col2\" >1.022656</td>\n",
       "                        <td id=\"T_b05eb800_398f_11eb_8cdf_faffc2676ee1row2_col3\" class=\"data row2 col3\" >0.499949</td>\n",
       "                        <td id=\"T_b05eb800_398f_11eb_8cdf_faffc2676ee1row2_col4\" class=\"data row2 col4\" >11.921590</td>\n",
       "                        <td id=\"T_b05eb800_398f_11eb_8cdf_faffc2676ee1row2_col5\" class=\"data row2 col5\" >0.171557</td>\n",
       "                        <td id=\"T_b05eb800_398f_11eb_8cdf_faffc2676ee1row2_col6\" class=\"data row2 col6\" >0.075561</td>\n",
       "                        <td id=\"T_b05eb800_398f_11eb_8cdf_faffc2676ee1row2_col7\" class=\"data row2 col7\" >0.463229</td>\n",
       "                        <td id=\"T_b05eb800_398f_11eb_8cdf_faffc2676ee1row2_col8\" class=\"data row2 col8\" >0.162292</td>\n",
       "                        <td id=\"T_b05eb800_398f_11eb_8cdf_faffc2676ee1row2_col9\" class=\"data row2 col9\" >44.097681</td>\n",
       "                        <td id=\"T_b05eb800_398f_11eb_8cdf_faffc2676ee1row2_col10\" class=\"data row2 col10\" >22.086866</td>\n",
       "                        <td id=\"T_b05eb800_398f_11eb_8cdf_faffc2676ee1row2_col11\" class=\"data row2 col11\" >11.974258</td>\n",
       "                        <td id=\"T_b05eb800_398f_11eb_8cdf_faffc2676ee1row2_col12\" class=\"data row2 col12\" >4.065601</td>\n",
       "                        <td id=\"T_b05eb800_398f_11eb_8cdf_faffc2676ee1row2_col13\" class=\"data row2 col13\" >11.981525</td>\n",
       "                        <td id=\"T_b05eb800_398f_11eb_8cdf_faffc2676ee1row2_col14\" class=\"data row2 col14\" >23.904164</td>\n",
       "                        <td id=\"T_b05eb800_398f_11eb_8cdf_faffc2676ee1row2_col15\" class=\"data row2 col15\" >0.359331</td>\n",
       "            </tr>\n",
       "            <tr>\n",
       "                        <th id=\"T_b05eb800_398f_11eb_8cdf_faffc2676ee1level0_row3\" class=\"row_heading level0 row3\" >min</th>\n",
       "                        <td id=\"T_b05eb800_398f_11eb_8cdf_faffc2676ee1row3_col0\" class=\"data row3 col0\" >0.000000</td>\n",
       "                        <td id=\"T_b05eb800_398f_11eb_8cdf_faffc2676ee1row3_col1\" class=\"data row3 col1\" >32.000000</td>\n",
       "                        <td id=\"T_b05eb800_398f_11eb_8cdf_faffc2676ee1row3_col2\" class=\"data row3 col2\" >1.000000</td>\n",
       "                        <td id=\"T_b05eb800_398f_11eb_8cdf_faffc2676ee1row3_col3\" class=\"data row3 col3\" >0.000000</td>\n",
       "                        <td id=\"T_b05eb800_398f_11eb_8cdf_faffc2676ee1row3_col4\" class=\"data row3 col4\" >0.000000</td>\n",
       "                        <td id=\"T_b05eb800_398f_11eb_8cdf_faffc2676ee1row3_col5\" class=\"data row3 col5\" >0.000000</td>\n",
       "                        <td id=\"T_b05eb800_398f_11eb_8cdf_faffc2676ee1row3_col6\" class=\"data row3 col6\" >0.000000</td>\n",
       "                        <td id=\"T_b05eb800_398f_11eb_8cdf_faffc2676ee1row3_col7\" class=\"data row3 col7\" >0.000000</td>\n",
       "                        <td id=\"T_b05eb800_398f_11eb_8cdf_faffc2676ee1row3_col8\" class=\"data row3 col8\" >0.000000</td>\n",
       "                        <td id=\"T_b05eb800_398f_11eb_8cdf_faffc2676ee1row3_col9\" class=\"data row3 col9\" >113.000000</td>\n",
       "                        <td id=\"T_b05eb800_398f_11eb_8cdf_faffc2676ee1row3_col10\" class=\"data row3 col10\" >83.500000</td>\n",
       "                        <td id=\"T_b05eb800_398f_11eb_8cdf_faffc2676ee1row3_col11\" class=\"data row3 col11\" >48.000000</td>\n",
       "                        <td id=\"T_b05eb800_398f_11eb_8cdf_faffc2676ee1row3_col12\" class=\"data row3 col12\" >15.540000</td>\n",
       "                        <td id=\"T_b05eb800_398f_11eb_8cdf_faffc2676ee1row3_col13\" class=\"data row3 col13\" >44.000000</td>\n",
       "                        <td id=\"T_b05eb800_398f_11eb_8cdf_faffc2676ee1row3_col14\" class=\"data row3 col14\" >40.000000</td>\n",
       "                        <td id=\"T_b05eb800_398f_11eb_8cdf_faffc2676ee1row3_col15\" class=\"data row3 col15\" >0.000000</td>\n",
       "            </tr>\n",
       "            <tr>\n",
       "                        <th id=\"T_b05eb800_398f_11eb_8cdf_faffc2676ee1level0_row4\" class=\"row_heading level0 row4\" >25%</th>\n",
       "                        <td id=\"T_b05eb800_398f_11eb_8cdf_faffc2676ee1row4_col0\" class=\"data row4 col0\" >0.000000</td>\n",
       "                        <td id=\"T_b05eb800_398f_11eb_8cdf_faffc2676ee1row4_col1\" class=\"data row4 col1\" >42.000000</td>\n",
       "                        <td id=\"T_b05eb800_398f_11eb_8cdf_faffc2676ee1row4_col2\" class=\"data row4 col2\" >1.000000</td>\n",
       "                        <td id=\"T_b05eb800_398f_11eb_8cdf_faffc2676ee1row4_col3\" class=\"data row4 col3\" >0.000000</td>\n",
       "                        <td id=\"T_b05eb800_398f_11eb_8cdf_faffc2676ee1row4_col4\" class=\"data row4 col4\" >0.000000</td>\n",
       "                        <td id=\"T_b05eb800_398f_11eb_8cdf_faffc2676ee1row4_col5\" class=\"data row4 col5\" >0.000000</td>\n",
       "                        <td id=\"T_b05eb800_398f_11eb_8cdf_faffc2676ee1row4_col6\" class=\"data row4 col6\" >0.000000</td>\n",
       "                        <td id=\"T_b05eb800_398f_11eb_8cdf_faffc2676ee1row4_col7\" class=\"data row4 col7\" >0.000000</td>\n",
       "                        <td id=\"T_b05eb800_398f_11eb_8cdf_faffc2676ee1row4_col8\" class=\"data row4 col8\" >0.000000</td>\n",
       "                        <td id=\"T_b05eb800_398f_11eb_8cdf_faffc2676ee1row4_col9\" class=\"data row4 col9\" >206.000000</td>\n",
       "                        <td id=\"T_b05eb800_398f_11eb_8cdf_faffc2676ee1row4_col10\" class=\"data row4 col10\" >117.000000</td>\n",
       "                        <td id=\"T_b05eb800_398f_11eb_8cdf_faffc2676ee1row4_col11\" class=\"data row4 col11\" >75.000000</td>\n",
       "                        <td id=\"T_b05eb800_398f_11eb_8cdf_faffc2676ee1row4_col12\" class=\"data row4 col12\" >23.080000</td>\n",
       "                        <td id=\"T_b05eb800_398f_11eb_8cdf_faffc2676ee1row4_col13\" class=\"data row4 col13\" >68.000000</td>\n",
       "                        <td id=\"T_b05eb800_398f_11eb_8cdf_faffc2676ee1row4_col14\" class=\"data row4 col14\" >71.000000</td>\n",
       "                        <td id=\"T_b05eb800_398f_11eb_8cdf_faffc2676ee1row4_col15\" class=\"data row4 col15\" >0.000000</td>\n",
       "            </tr>\n",
       "            <tr>\n",
       "                        <th id=\"T_b05eb800_398f_11eb_8cdf_faffc2676ee1level0_row5\" class=\"row_heading level0 row5\" >50%</th>\n",
       "                        <td id=\"T_b05eb800_398f_11eb_8cdf_faffc2676ee1row5_col0\" class=\"data row5 col0\" >0.000000</td>\n",
       "                        <td id=\"T_b05eb800_398f_11eb_8cdf_faffc2676ee1row5_col1\" class=\"data row5 col1\" >49.000000</td>\n",
       "                        <td id=\"T_b05eb800_398f_11eb_8cdf_faffc2676ee1row5_col2\" class=\"data row5 col2\" >2.000000</td>\n",
       "                        <td id=\"T_b05eb800_398f_11eb_8cdf_faffc2676ee1row5_col3\" class=\"data row5 col3\" >0.000000</td>\n",
       "                        <td id=\"T_b05eb800_398f_11eb_8cdf_faffc2676ee1row5_col4\" class=\"data row5 col4\" >0.000000</td>\n",
       "                        <td id=\"T_b05eb800_398f_11eb_8cdf_faffc2676ee1row5_col5\" class=\"data row5 col5\" >0.000000</td>\n",
       "                        <td id=\"T_b05eb800_398f_11eb_8cdf_faffc2676ee1row5_col6\" class=\"data row5 col6\" >0.000000</td>\n",
       "                        <td id=\"T_b05eb800_398f_11eb_8cdf_faffc2676ee1row5_col7\" class=\"data row5 col7\" >0.000000</td>\n",
       "                        <td id=\"T_b05eb800_398f_11eb_8cdf_faffc2676ee1row5_col8\" class=\"data row5 col8\" >0.000000</td>\n",
       "                        <td id=\"T_b05eb800_398f_11eb_8cdf_faffc2676ee1row5_col9\" class=\"data row5 col9\" >234.000000</td>\n",
       "                        <td id=\"T_b05eb800_398f_11eb_8cdf_faffc2676ee1row5_col10\" class=\"data row5 col10\" >128.000000</td>\n",
       "                        <td id=\"T_b05eb800_398f_11eb_8cdf_faffc2676ee1row5_col11\" class=\"data row5 col11\" >82.000000</td>\n",
       "                        <td id=\"T_b05eb800_398f_11eb_8cdf_faffc2676ee1row5_col12\" class=\"data row5 col12\" >25.380000</td>\n",
       "                        <td id=\"T_b05eb800_398f_11eb_8cdf_faffc2676ee1row5_col13\" class=\"data row5 col13\" >75.000000</td>\n",
       "                        <td id=\"T_b05eb800_398f_11eb_8cdf_faffc2676ee1row5_col14\" class=\"data row5 col14\" >78.000000</td>\n",
       "                        <td id=\"T_b05eb800_398f_11eb_8cdf_faffc2676ee1row5_col15\" class=\"data row5 col15\" >0.000000</td>\n",
       "            </tr>\n",
       "            <tr>\n",
       "                        <th id=\"T_b05eb800_398f_11eb_8cdf_faffc2676ee1level0_row6\" class=\"row_heading level0 row6\" >75%</th>\n",
       "                        <td id=\"T_b05eb800_398f_11eb_8cdf_faffc2676ee1row6_col0\" class=\"data row6 col0\" >1.000000</td>\n",
       "                        <td id=\"T_b05eb800_398f_11eb_8cdf_faffc2676ee1row6_col1\" class=\"data row6 col1\" >56.000000</td>\n",
       "                        <td id=\"T_b05eb800_398f_11eb_8cdf_faffc2676ee1row6_col2\" class=\"data row6 col2\" >3.000000</td>\n",
       "                        <td id=\"T_b05eb800_398f_11eb_8cdf_faffc2676ee1row6_col3\" class=\"data row6 col3\" >1.000000</td>\n",
       "                        <td id=\"T_b05eb800_398f_11eb_8cdf_faffc2676ee1row6_col4\" class=\"data row6 col4\" >20.000000</td>\n",
       "                        <td id=\"T_b05eb800_398f_11eb_8cdf_faffc2676ee1row6_col5\" class=\"data row6 col5\" >0.000000</td>\n",
       "                        <td id=\"T_b05eb800_398f_11eb_8cdf_faffc2676ee1row6_col6\" class=\"data row6 col6\" >0.000000</td>\n",
       "                        <td id=\"T_b05eb800_398f_11eb_8cdf_faffc2676ee1row6_col7\" class=\"data row6 col7\" >1.000000</td>\n",
       "                        <td id=\"T_b05eb800_398f_11eb_8cdf_faffc2676ee1row6_col8\" class=\"data row6 col8\" >0.000000</td>\n",
       "                        <td id=\"T_b05eb800_398f_11eb_8cdf_faffc2676ee1row6_col9\" class=\"data row6 col9\" >263.000000</td>\n",
       "                        <td id=\"T_b05eb800_398f_11eb_8cdf_faffc2676ee1row6_col10\" class=\"data row6 col10\" >143.875000</td>\n",
       "                        <td id=\"T_b05eb800_398f_11eb_8cdf_faffc2676ee1row6_col11\" class=\"data row6 col11\" >90.000000</td>\n",
       "                        <td id=\"T_b05eb800_398f_11eb_8cdf_faffc2676ee1row6_col12\" class=\"data row6 col12\" >28.037500</td>\n",
       "                        <td id=\"T_b05eb800_398f_11eb_8cdf_faffc2676ee1row6_col13\" class=\"data row6 col13\" >82.000000</td>\n",
       "                        <td id=\"T_b05eb800_398f_11eb_8cdf_faffc2676ee1row6_col14\" class=\"data row6 col14\" >87.000000</td>\n",
       "                        <td id=\"T_b05eb800_398f_11eb_8cdf_faffc2676ee1row6_col15\" class=\"data row6 col15\" >0.000000</td>\n",
       "            </tr>\n",
       "            <tr>\n",
       "                        <th id=\"T_b05eb800_398f_11eb_8cdf_faffc2676ee1level0_row7\" class=\"row_heading level0 row7\" >max</th>\n",
       "                        <td id=\"T_b05eb800_398f_11eb_8cdf_faffc2676ee1row7_col0\" class=\"data row7 col0\" >1.000000</td>\n",
       "                        <td id=\"T_b05eb800_398f_11eb_8cdf_faffc2676ee1row7_col1\" class=\"data row7 col1\" >70.000000</td>\n",
       "                        <td id=\"T_b05eb800_398f_11eb_8cdf_faffc2676ee1row7_col2\" class=\"data row7 col2\" >4.000000</td>\n",
       "                        <td id=\"T_b05eb800_398f_11eb_8cdf_faffc2676ee1row7_col3\" class=\"data row7 col3\" >1.000000</td>\n",
       "                        <td id=\"T_b05eb800_398f_11eb_8cdf_faffc2676ee1row7_col4\" class=\"data row7 col4\" >70.000000</td>\n",
       "                        <td id=\"T_b05eb800_398f_11eb_8cdf_faffc2676ee1row7_col5\" class=\"data row7 col5\" >1.000000</td>\n",
       "                        <td id=\"T_b05eb800_398f_11eb_8cdf_faffc2676ee1row7_col6\" class=\"data row7 col6\" >1.000000</td>\n",
       "                        <td id=\"T_b05eb800_398f_11eb_8cdf_faffc2676ee1row7_col7\" class=\"data row7 col7\" >1.000000</td>\n",
       "                        <td id=\"T_b05eb800_398f_11eb_8cdf_faffc2676ee1row7_col8\" class=\"data row7 col8\" >1.000000</td>\n",
       "                        <td id=\"T_b05eb800_398f_11eb_8cdf_faffc2676ee1row7_col9\" class=\"data row7 col9\" >600.000000</td>\n",
       "                        <td id=\"T_b05eb800_398f_11eb_8cdf_faffc2676ee1row7_col10\" class=\"data row7 col10\" >295.000000</td>\n",
       "                        <td id=\"T_b05eb800_398f_11eb_8cdf_faffc2676ee1row7_col11\" class=\"data row7 col11\" >142.500000</td>\n",
       "                        <td id=\"T_b05eb800_398f_11eb_8cdf_faffc2676ee1row7_col12\" class=\"data row7 col12\" >56.800000</td>\n",
       "                        <td id=\"T_b05eb800_398f_11eb_8cdf_faffc2676ee1row7_col13\" class=\"data row7 col13\" >143.000000</td>\n",
       "                        <td id=\"T_b05eb800_398f_11eb_8cdf_faffc2676ee1row7_col14\" class=\"data row7 col14\" >394.000000</td>\n",
       "                        <td id=\"T_b05eb800_398f_11eb_8cdf_faffc2676ee1row7_col15\" class=\"data row7 col15\" >1.000000</td>\n",
       "            </tr>\n",
       "    </tbody></table>"
      ],
      "text/plain": [
       "<pandas.io.formats.style.Styler at 0x7faf8acd1650>"
      ]
     },
     "execution_count": 18,
     "metadata": {},
     "output_type": "execute_result"
    }
   ],
   "source": [
    "heart_df.describe().style.set_caption('There are 768 rows, with potential outliers.')\n"
   ]
  },
  {
   "cell_type": "code",
   "execution_count": 20,
   "metadata": {},
   "outputs": [
    {
     "data": {
      "text/plain": [
       "(3658, 16)"
      ]
     },
     "execution_count": 20,
     "metadata": {},
     "output_type": "execute_result"
    }
   ],
   "source": [
    "heart_df.shape"
   ]
  },
  {
   "cell_type": "markdown",
   "metadata": {},
   "source": [
    "## Visualizing Outliers:"
   ]
  },
  {
   "cell_type": "code",
   "execution_count": 39,
   "metadata": {},
   "outputs": [
    {
     "data": {
      "image/png": "[encoded data removed]",
      "text/plain": [
       "<Figure size 1440x1080 with 1 Axes>"
      ]
     },
     "metadata": {},
     "output_type": "display_data"
    }
   ],
   "source": [
    "# let's see how data is distributed for every column\n",
    "fig, ax = plt.subplots(figsize=(20,15))\n",
    "sns.boxplot(data=heart_df, width= 0.5,ax=ax,  fliersize=6)\n",
    "sns.set()\n",
    "ax.set_xlabel('Classes',fontsize=20);\n",
    "ax.set_ylabel('Total',fontsize=20);\n"
   ]
  },
  {
   "cell_type": "markdown",
   "metadata": {},
   "source": [
    "# Feature Engineering"
   ]
  },
  {
   "cell_type": "markdown",
   "metadata": {},
   "source": [
    "### Handeling Outliers"
   ]
  },
  {
   "cell_type": "markdown",
   "metadata": {},
   "source": [
    "We are utilizing feature engineering to clean our independent variables to ensure model accuracy. \n",
    "- The following were removed: \n",
    "    -  we are removing the top 2% data from the cigsPerday column\n",
    "    -  we are removing the top 1% data from the BMI column\n",
    "    -  we are removing the top 1% data from the sysBP column\n",
    "    -  we are removing the top 5% data from the Insulin column\n"
   ]
  },
  {
   "cell_type": "code",
   "execution_count": 90,
   "metadata": {},
   "outputs": [],
   "source": [
    "q = heart_df['cigsPerDay'].quantile(0.98)\n",
    "# we are removing the top 2% data from the cigsPerday column\n",
    "data_cleaned = heart_df[heart_df['cigsPerDay']<q]\n",
    "\n",
    "q = data_cleaned['totChol'].quantile(0.98)\n",
    "# we are removing the top 1% data from the BMI column\n",
    "data_cleaned  = data_cleaned[data_cleaned['totChol']<q]\n",
    "\n",
    "q = data_cleaned['sysBP'].quantile(0.95)\n",
    "# we are removing the top 1% data from the sysBP column\n",
    "data_cleaned  = data_cleaned[data_cleaned['sysBP']<q]\n",
    "\n",
    "q = data_cleaned['glucose'].quantile(0.95)\n",
    "# we are removing the top 5% data from the Insulin column\n",
    "data_cleaned  = data_cleaned[data_cleaned['glucose']<q]\n"
   ]
  },
  {
   "cell_type": "markdown",
   "metadata": {},
   "source": [
    "### Revisiting Skewness after Outlier handeling"
   ]
  },
  {
   "cell_type": "markdown",
   "metadata": {},
   "source": [
    "The data looks much better now than before. We will start our analysis with this data now as we don't want to lose important information. If our model doesn't work with accuracy, we will come back for more preprocessing."
   ]
  },
  {
   "cell_type": "code",
   "execution_count": 47,
   "metadata": {},
   "outputs": [
    {
     "data": {
      "image/png": "[encoded data removed]",
      "text/plain": [
       "<Figure size 1440x1080 with 1 Axes>"
      ]
     },
     "metadata": {},
     "output_type": "display_data"
    }
   ],
   "source": [
    "fig, ax = plt.subplots(figsize=(20,15))\n",
    "sns.boxplot(data=data_cleaned, width= 0.5,ax=ax,  fliersize=6)\n",
    "sns.set()\n",
    "ax.set_xlabel('Classes',fontsize=20);\n",
    "ax.set_ylabel('Total',fontsize=20);\n"
   ]
  },
  {
   "cell_type": "markdown",
   "metadata": {},
   "source": [
    "There are 3179 patents with no heart disease and 572 patients with risk of heart disease"
   ]
  },
  {
   "cell_type": "code",
   "execution_count": 49,
   "metadata": {},
   "outputs": [
    {
     "data": {
      "text/plain": [
       "<matplotlib.axes._subplots.AxesSubplot at 0x7faf8081e0d0>"
      ]
     },
     "execution_count": 49,
     "metadata": {},
     "output_type": "execute_result"
    },
    {
     "data": {
      "image/png": "[encoded data removed]",
      "text/plain": [
       "<Figure size 432x288 with 1 Axes>"
      ]
     },
     "metadata": {},
     "output_type": "display_data"
    }
   ],
   "source": [
    "sns.countplot(x='TenYearCHD',data=heart_df)\n"
   ]
  },
  {
   "cell_type": "markdown",
   "metadata": {},
   "source": [
    "## Logistic Regression"
   ]
  },
  {
   "cell_type": "markdown",
   "metadata": {},
   "source": [
    "Logistic regression is a type of regression analysis in statistics used for prediction of outcome of a categorical dependent variable from a set of predictor or independent variables. In logistic regression the dependent variable is always binary. Logistic regression is mainly used to for prediction and also calculating the probability of success."
   ]
  },
  {
   "cell_type": "code",
   "execution_count": 51,
   "metadata": {},
   "outputs": [
    {
     "data": {
      "text/html": [
       "<div>\n",
       "<style scoped>\n",
       "    .dataframe tbody tr th:only-of-type {\n",
       "        vertical-align: middle;\n",
       "    }\n",
       "\n",
       "    .dataframe tbody tr th {\n",
       "        vertical-align: top;\n",
       "    }\n",
       "\n",
       "    .dataframe thead th {\n",
       "        text-align: right;\n",
       "    }\n",
       "</style>\n",
       "<table border=\"1\" class=\"dataframe\">\n",
       "  <thead>\n",
       "    <tr style=\"text-align: right;\">\n",
       "      <th></th>\n",
       "      <th>const</th>\n",
       "      <th>male</th>\n",
       "      <th>age</th>\n",
       "      <th>education</th>\n",
       "      <th>currentSmoker</th>\n",
       "      <th>cigsPerDay</th>\n",
       "      <th>BPMeds</th>\n",
       "      <th>prevalentStroke</th>\n",
       "      <th>prevalentHyp</th>\n",
       "      <th>diabetes</th>\n",
       "      <th>totChol</th>\n",
       "      <th>sysBP</th>\n",
       "      <th>diaBP</th>\n",
       "      <th>BMI</th>\n",
       "      <th>heartRate</th>\n",
       "      <th>glucose</th>\n",
       "      <th>TenYearCHD</th>\n",
       "    </tr>\n",
       "  </thead>\n",
       "  <tbody>\n",
       "    <tr>\n",
       "      <th>0</th>\n",
       "      <td>1.0</td>\n",
       "      <td>1</td>\n",
       "      <td>39</td>\n",
       "      <td>4.0</td>\n",
       "      <td>0</td>\n",
       "      <td>0.0</td>\n",
       "      <td>0.0</td>\n",
       "      <td>0</td>\n",
       "      <td>0</td>\n",
       "      <td>0</td>\n",
       "      <td>195.0</td>\n",
       "      <td>106.0</td>\n",
       "      <td>70.0</td>\n",
       "      <td>26.97</td>\n",
       "      <td>80.0</td>\n",
       "      <td>77.0</td>\n",
       "      <td>0</td>\n",
       "    </tr>\n",
       "    <tr>\n",
       "      <th>1</th>\n",
       "      <td>1.0</td>\n",
       "      <td>0</td>\n",
       "      <td>46</td>\n",
       "      <td>2.0</td>\n",
       "      <td>0</td>\n",
       "      <td>0.0</td>\n",
       "      <td>0.0</td>\n",
       "      <td>0</td>\n",
       "      <td>0</td>\n",
       "      <td>0</td>\n",
       "      <td>250.0</td>\n",
       "      <td>121.0</td>\n",
       "      <td>81.0</td>\n",
       "      <td>28.73</td>\n",
       "      <td>95.0</td>\n",
       "      <td>76.0</td>\n",
       "      <td>0</td>\n",
       "    </tr>\n",
       "    <tr>\n",
       "      <th>2</th>\n",
       "      <td>1.0</td>\n",
       "      <td>1</td>\n",
       "      <td>48</td>\n",
       "      <td>1.0</td>\n",
       "      <td>1</td>\n",
       "      <td>20.0</td>\n",
       "      <td>0.0</td>\n",
       "      <td>0</td>\n",
       "      <td>0</td>\n",
       "      <td>0</td>\n",
       "      <td>245.0</td>\n",
       "      <td>127.5</td>\n",
       "      <td>80.0</td>\n",
       "      <td>25.34</td>\n",
       "      <td>75.0</td>\n",
       "      <td>70.0</td>\n",
       "      <td>0</td>\n",
       "    </tr>\n",
       "    <tr>\n",
       "      <th>3</th>\n",
       "      <td>1.0</td>\n",
       "      <td>0</td>\n",
       "      <td>61</td>\n",
       "      <td>3.0</td>\n",
       "      <td>1</td>\n",
       "      <td>30.0</td>\n",
       "      <td>0.0</td>\n",
       "      <td>0</td>\n",
       "      <td>1</td>\n",
       "      <td>0</td>\n",
       "      <td>225.0</td>\n",
       "      <td>150.0</td>\n",
       "      <td>95.0</td>\n",
       "      <td>28.58</td>\n",
       "      <td>65.0</td>\n",
       "      <td>103.0</td>\n",
       "      <td>1</td>\n",
       "    </tr>\n",
       "    <tr>\n",
       "      <th>4</th>\n",
       "      <td>1.0</td>\n",
       "      <td>0</td>\n",
       "      <td>46</td>\n",
       "      <td>3.0</td>\n",
       "      <td>1</td>\n",
       "      <td>23.0</td>\n",
       "      <td>0.0</td>\n",
       "      <td>0</td>\n",
       "      <td>0</td>\n",
       "      <td>0</td>\n",
       "      <td>285.0</td>\n",
       "      <td>130.0</td>\n",
       "      <td>84.0</td>\n",
       "      <td>23.10</td>\n",
       "      <td>85.0</td>\n",
       "      <td>85.0</td>\n",
       "      <td>0</td>\n",
       "    </tr>\n",
       "  </tbody>\n",
       "</table>\n",
       "</div>"
      ],
      "text/plain": [
       "   const  male  age  education  currentSmoker  cigsPerDay  BPMeds  \\\n",
       "0    1.0     1   39        4.0              0         0.0     0.0   \n",
       "1    1.0     0   46        2.0              0         0.0     0.0   \n",
       "2    1.0     1   48        1.0              1        20.0     0.0   \n",
       "3    1.0     0   61        3.0              1        30.0     0.0   \n",
       "4    1.0     0   46        3.0              1        23.0     0.0   \n",
       "\n",
       "   prevalentStroke  prevalentHyp  diabetes  totChol  sysBP  diaBP    BMI  \\\n",
       "0                0             0         0    195.0  106.0   70.0  26.97   \n",
       "1                0             0         0    250.0  121.0   81.0  28.73   \n",
       "2                0             0         0    245.0  127.5   80.0  25.34   \n",
       "3                0             1         0    225.0  150.0   95.0  28.58   \n",
       "4                0             0         0    285.0  130.0   84.0  23.10   \n",
       "\n",
       "   heartRate  glucose  TenYearCHD  \n",
       "0       80.0     77.0           0  \n",
       "1       95.0     76.0           0  \n",
       "2       75.0     70.0           0  \n",
       "3       65.0    103.0           1  \n",
       "4       85.0     85.0           0  "
      ]
     },
     "execution_count": 51,
     "metadata": {},
     "output_type": "execute_result"
    }
   ],
   "source": [
    "from statsmodels.tools import add_constant as add_constant\n",
    "heart_df_constant = add_constant(heart_df)\n",
    "heart_df_constant.head()"
   ]
  },
  {
   "cell_type": "markdown",
   "metadata": {},
   "source": [
    "The results below show some of the attributes with P value higher than the preferred alpha(5%) and thereby showing low statistically significant relationship with the probability of heart disease. \n",
    "\n",
    "- Backward elemination approach is used here to remove those attributes with highest Pvalue one at a time follwed by running the regression repeatedly until all attributes have P Values less than 0.05."
   ]
  },
  {
   "cell_type": "code",
   "execution_count": 54,
   "metadata": {},
   "outputs": [
    {
     "name": "stdout",
     "output_type": "stream",
     "text": [
      "Optimization terminated successfully.\n",
      "         Current function value: 0.376500\n",
      "         Iterations 7\n"
     ]
    },
    {
     "data": {
      "text/html": [
       "<table class=\"simpletable\">\n",
       "<caption>Logit Regression Results</caption>\n",
       "<tr>\n",
       "  <th>Dep. Variable:</th>      <td>TenYearCHD</td>    <th>  No. Observations:  </th>  <td>  3658</td>  \n",
       "</tr>\n",
       "<tr>\n",
       "  <th>Model:</th>                 <td>Logit</td>      <th>  Df Residuals:      </th>  <td>  3642</td>  \n",
       "</tr>\n",
       "<tr>\n",
       "  <th>Method:</th>                 <td>MLE</td>       <th>  Df Model:          </th>  <td>    15</td>  \n",
       "</tr>\n",
       "<tr>\n",
       "  <th>Date:</th>            <td>Tue, 08 Dec 2020</td> <th>  Pseudo R-squ.:     </th>  <td>0.1175</td>  \n",
       "</tr>\n",
       "<tr>\n",
       "  <th>Time:</th>                <td>15:22:54</td>     <th>  Log-Likelihood:    </th> <td> -1377.2</td> \n",
       "</tr>\n",
       "<tr>\n",
       "  <th>converged:</th>             <td>True</td>       <th>  LL-Null:           </th> <td> -1560.6</td> \n",
       "</tr>\n",
       "<tr>\n",
       "  <th>Covariance Type:</th>     <td>nonrobust</td>    <th>  LLR p-value:       </th> <td>6.676e-69</td>\n",
       "</tr>\n",
       "</table>\n",
       "<table class=\"simpletable\">\n",
       "<tr>\n",
       "         <td></td>            <th>coef</th>     <th>std err</th>      <th>z</th>      <th>P>|z|</th>  <th>[0.025</th>    <th>0.975]</th>  \n",
       "</tr>\n",
       "<tr>\n",
       "  <th>const</th>           <td>   -8.3282</td> <td>    0.715</td> <td>  -11.640</td> <td> 0.000</td> <td>   -9.730</td> <td>   -6.926</td>\n",
       "</tr>\n",
       "<tr>\n",
       "  <th>male</th>            <td>    0.5553</td> <td>    0.109</td> <td>    5.093</td> <td> 0.000</td> <td>    0.342</td> <td>    0.769</td>\n",
       "</tr>\n",
       "<tr>\n",
       "  <th>age</th>             <td>    0.0635</td> <td>    0.007</td> <td>    9.509</td> <td> 0.000</td> <td>    0.050</td> <td>    0.077</td>\n",
       "</tr>\n",
       "<tr>\n",
       "  <th>education</th>       <td>   -0.0478</td> <td>    0.049</td> <td>   -0.967</td> <td> 0.334</td> <td>   -0.145</td> <td>    0.049</td>\n",
       "</tr>\n",
       "<tr>\n",
       "  <th>currentSmoker</th>   <td>    0.0716</td> <td>    0.157</td> <td>    0.457</td> <td> 0.648</td> <td>   -0.236</td> <td>    0.379</td>\n",
       "</tr>\n",
       "<tr>\n",
       "  <th>cigsPerDay</th>      <td>    0.0179</td> <td>    0.006</td> <td>    2.872</td> <td> 0.004</td> <td>    0.006</td> <td>    0.030</td>\n",
       "</tr>\n",
       "<tr>\n",
       "  <th>BPMeds</th>          <td>    0.1625</td> <td>    0.234</td> <td>    0.693</td> <td> 0.488</td> <td>   -0.297</td> <td>    0.622</td>\n",
       "</tr>\n",
       "<tr>\n",
       "  <th>prevalentStroke</th> <td>    0.6937</td> <td>    0.490</td> <td>    1.417</td> <td> 0.157</td> <td>   -0.266</td> <td>    1.653</td>\n",
       "</tr>\n",
       "<tr>\n",
       "  <th>prevalentHyp</th>    <td>    0.2342</td> <td>    0.138</td> <td>    1.697</td> <td> 0.090</td> <td>   -0.036</td> <td>    0.505</td>\n",
       "</tr>\n",
       "<tr>\n",
       "  <th>diabetes</th>        <td>    0.0392</td> <td>    0.316</td> <td>    0.124</td> <td> 0.901</td> <td>   -0.579</td> <td>    0.658</td>\n",
       "</tr>\n",
       "<tr>\n",
       "  <th>totChol</th>         <td>    0.0023</td> <td>    0.001</td> <td>    2.070</td> <td> 0.038</td> <td>    0.000</td> <td>    0.005</td>\n",
       "</tr>\n",
       "<tr>\n",
       "  <th>sysBP</th>           <td>    0.0154</td> <td>    0.004</td> <td>    4.044</td> <td> 0.000</td> <td>    0.008</td> <td>    0.023</td>\n",
       "</tr>\n",
       "<tr>\n",
       "  <th>diaBP</th>           <td>   -0.0042</td> <td>    0.006</td> <td>   -0.646</td> <td> 0.518</td> <td>   -0.017</td> <td>    0.008</td>\n",
       "</tr>\n",
       "<tr>\n",
       "  <th>BMI</th>             <td>    0.0067</td> <td>    0.013</td> <td>    0.523</td> <td> 0.601</td> <td>   -0.018</td> <td>    0.032</td>\n",
       "</tr>\n",
       "<tr>\n",
       "  <th>heartRate</th>       <td>   -0.0032</td> <td>    0.004</td> <td>   -0.771</td> <td> 0.441</td> <td>   -0.012</td> <td>    0.005</td>\n",
       "</tr>\n",
       "<tr>\n",
       "  <th>glucose</th>         <td>    0.0071</td> <td>    0.002</td> <td>    3.190</td> <td> 0.001</td> <td>    0.003</td> <td>    0.012</td>\n",
       "</tr>\n",
       "</table>"
      ],
      "text/plain": [
       "<class 'statsmodels.iolib.summary.Summary'>\n",
       "\"\"\"\n",
       "                           Logit Regression Results                           \n",
       "==============================================================================\n",
       "Dep. Variable:             TenYearCHD   No. Observations:                 3658\n",
       "Model:                          Logit   Df Residuals:                     3642\n",
       "Method:                           MLE   Df Model:                           15\n",
       "Date:                Tue, 08 Dec 2020   Pseudo R-squ.:                  0.1175\n",
       "Time:                        15:22:54   Log-Likelihood:                -1377.2\n",
       "converged:                       True   LL-Null:                       -1560.6\n",
       "Covariance Type:            nonrobust   LLR p-value:                 6.676e-69\n",
       "===================================================================================\n",
       "                      coef    std err          z      P>|z|      [0.025      0.975]\n",
       "-----------------------------------------------------------------------------------\n",
       "const              -8.3282      0.715    -11.640      0.000      -9.730      -6.926\n",
       "male                0.5553      0.109      5.093      0.000       0.342       0.769\n",
       "age                 0.0635      0.007      9.509      0.000       0.050       0.077\n",
       "education          -0.0478      0.049     -0.967      0.334      -0.145       0.049\n",
       "currentSmoker       0.0716      0.157      0.457      0.648      -0.236       0.379\n",
       "cigsPerDay          0.0179      0.006      2.872      0.004       0.006       0.030\n",
       "BPMeds              0.1625      0.234      0.693      0.488      -0.297       0.622\n",
       "prevalentStroke     0.6937      0.490      1.417      0.157      -0.266       1.653\n",
       "prevalentHyp        0.2342      0.138      1.697      0.090      -0.036       0.505\n",
       "diabetes            0.0392      0.316      0.124      0.901      -0.579       0.658\n",
       "totChol             0.0023      0.001      2.070      0.038       0.000       0.005\n",
       "sysBP               0.0154      0.004      4.044      0.000       0.008       0.023\n",
       "diaBP              -0.0042      0.006     -0.646      0.518      -0.017       0.008\n",
       "BMI                 0.0067      0.013      0.523      0.601      -0.018       0.032\n",
       "heartRate          -0.0032      0.004     -0.771      0.441      -0.012       0.005\n",
       "glucose             0.0071      0.002      3.190      0.001       0.003       0.012\n",
       "===================================================================================\n",
       "\"\"\""
      ]
     },
     "execution_count": 54,
     "metadata": {},
     "output_type": "execute_result"
    }
   ],
   "source": [
    "st.chisqprob = lambda chisq, df: st.chi2.sf(chisq, df)\n",
    "cols=heart_df_constant.columns[:-1]\n",
    "model=sm.Logit(heart_df.TenYearCHD,heart_df_constant[cols])\n",
    "result=model.fit()\n",
    "result.summary()"
   ]
  },
  {
   "cell_type": "markdown",
   "metadata": {},
   "source": [
    "Backward elemination approach is used here to remove those attributes with highest Pvalue one at a time follwed by running the regression repeatedly until all attributes have P Values less than 0.05."
   ]
  },
  {
   "cell_type": "code",
   "execution_count": 55,
   "metadata": {},
   "outputs": [],
   "source": [
    "def back_feature_elem (data_frame,dep_var,col_list):\n",
    "    while len(col_list)>0 :\n",
    "        model=sm.Logit(dep_var,data_frame[col_list])\n",
    "        result=model.fit(disp=0)\n",
    "        largest_pvalue=round(result.pvalues,3).nlargest(1)\n",
    "        if largest_pvalue[0]<(0.05):\n",
    "            return result\n",
    "            break\n",
    "        else:\n",
    "            col_list=col_list.drop(largest_pvalue.index)\n",
    "\n",
    "result=back_feature_elem(heart_df_constant,heart_df.TenYearCHD,cols)"
   ]
  },
  {
   "cell_type": "markdown",
   "metadata": {},
   "source": [
    "Takes in the dataframe, the dependent variable and a list of column names, runs the regression repeatedly eleminating feature with the highest\n",
    "    P-value above alpha one at a time and returns the regression summary with all p-values below alpha\n"
   ]
  },
  {
   "cell_type": "code",
   "execution_count": 56,
   "metadata": {},
   "outputs": [
    {
     "data": {
      "text/html": [
       "<table class=\"simpletable\">\n",
       "<caption>Logit Regression Results</caption>\n",
       "<tr>\n",
       "  <th>Dep. Variable:</th>      <td>TenYearCHD</td>    <th>  No. Observations:  </th>  <td>  3658</td>  \n",
       "</tr>\n",
       "<tr>\n",
       "  <th>Model:</th>                 <td>Logit</td>      <th>  Df Residuals:      </th>  <td>  3651</td>  \n",
       "</tr>\n",
       "<tr>\n",
       "  <th>Method:</th>                 <td>MLE</td>       <th>  Df Model:          </th>  <td>     6</td>  \n",
       "</tr>\n",
       "<tr>\n",
       "  <th>Date:</th>            <td>Tue, 08 Dec 2020</td> <th>  Pseudo R-squ.:     </th>  <td>0.1148</td>  \n",
       "</tr>\n",
       "<tr>\n",
       "  <th>Time:</th>                <td>15:24:34</td>     <th>  Log-Likelihood:    </th> <td> -1381.4</td> \n",
       "</tr>\n",
       "<tr>\n",
       "  <th>converged:</th>             <td>True</td>       <th>  LL-Null:           </th> <td> -1560.6</td> \n",
       "</tr>\n",
       "<tr>\n",
       "  <th>Covariance Type:</th>     <td>nonrobust</td>    <th>  LLR p-value:       </th> <td>2.408e-74</td>\n",
       "</tr>\n",
       "</table>\n",
       "<table class=\"simpletable\">\n",
       "<tr>\n",
       "       <td></td>         <th>coef</th>     <th>std err</th>      <th>z</th>      <th>P>|z|</th>  <th>[0.025</th>    <th>0.975]</th>  \n",
       "</tr>\n",
       "<tr>\n",
       "  <th>const</th>      <td>   -9.1353</td> <td>    0.475</td> <td>  -19.213</td> <td> 0.000</td> <td>  -10.067</td> <td>   -8.203</td>\n",
       "</tr>\n",
       "<tr>\n",
       "  <th>male</th>       <td>    0.5617</td> <td>    0.107</td> <td>    5.258</td> <td> 0.000</td> <td>    0.352</td> <td>    0.771</td>\n",
       "</tr>\n",
       "<tr>\n",
       "  <th>age</th>        <td>    0.0660</td> <td>    0.006</td> <td>   10.267</td> <td> 0.000</td> <td>    0.053</td> <td>    0.079</td>\n",
       "</tr>\n",
       "<tr>\n",
       "  <th>cigsPerDay</th> <td>    0.0192</td> <td>    0.004</td> <td>    4.606</td> <td> 0.000</td> <td>    0.011</td> <td>    0.027</td>\n",
       "</tr>\n",
       "<tr>\n",
       "  <th>totChol</th>    <td>    0.0023</td> <td>    0.001</td> <td>    2.031</td> <td> 0.042</td> <td> 8.01e-05</td> <td>    0.004</td>\n",
       "</tr>\n",
       "<tr>\n",
       "  <th>sysBP</th>      <td>    0.0175</td> <td>    0.002</td> <td>    8.155</td> <td> 0.000</td> <td>    0.013</td> <td>    0.022</td>\n",
       "</tr>\n",
       "<tr>\n",
       "  <th>glucose</th>    <td>    0.0073</td> <td>    0.002</td> <td>    4.343</td> <td> 0.000</td> <td>    0.004</td> <td>    0.011</td>\n",
       "</tr>\n",
       "</table>"
      ],
      "text/plain": [
       "<class 'statsmodels.iolib.summary.Summary'>\n",
       "\"\"\"\n",
       "                           Logit Regression Results                           \n",
       "==============================================================================\n",
       "Dep. Variable:             TenYearCHD   No. Observations:                 3658\n",
       "Model:                          Logit   Df Residuals:                     3651\n",
       "Method:                           MLE   Df Model:                            6\n",
       "Date:                Tue, 08 Dec 2020   Pseudo R-squ.:                  0.1148\n",
       "Time:                        15:24:34   Log-Likelihood:                -1381.4\n",
       "converged:                       True   LL-Null:                       -1560.6\n",
       "Covariance Type:            nonrobust   LLR p-value:                 2.408e-74\n",
       "==============================================================================\n",
       "                 coef    std err          z      P>|z|      [0.025      0.975]\n",
       "------------------------------------------------------------------------------\n",
       "const         -9.1353      0.475    -19.213      0.000     -10.067      -8.203\n",
       "male           0.5617      0.107      5.258      0.000       0.352       0.771\n",
       "age            0.0660      0.006     10.267      0.000       0.053       0.079\n",
       "cigsPerDay     0.0192      0.004      4.606      0.000       0.011       0.027\n",
       "totChol        0.0023      0.001      2.031      0.042    8.01e-05       0.004\n",
       "sysBP          0.0175      0.002      8.155      0.000       0.013       0.022\n",
       "glucose        0.0073      0.002      4.343      0.000       0.004       0.011\n",
       "==============================================================================\n",
       "\"\"\""
      ]
     },
     "execution_count": 56,
     "metadata": {},
     "output_type": "execute_result"
    }
   ],
   "source": [
    "result.summary()\n"
   ]
  },
  {
   "cell_type": "markdown",
   "metadata": {},
   "source": [
    "## Interpreting Results"
   ]
  },
  {
   "cell_type": "markdown",
   "metadata": {},
   "source": [
    "This fitted model shows that, holding all other features constant, the odds of getting diagnosed with heart disease for males (sex_male = 1)over that of females (sex_male = 0) is  1.753586."
   ]
  },
  {
   "cell_type": "markdown",
   "metadata": {},
   "source": [
    "In terms of percent change, we can say that the odds for males are 75.3% higher than the odds for females."
   ]
  },
  {
   "cell_type": "code",
   "execution_count": 63,
   "metadata": {},
   "outputs": [
    {
     "name": "stdout",
     "output_type": "stream",
     "text": [
      "            CI 95%(2.5%)  CI 95%(97.5%)  Odds Ratio  pvalue\n",
      "const           0.000042       0.000274    0.000108   0.000\n",
      "male            1.422325       2.161998    1.753586   0.000\n",
      "age             1.054823       1.081727    1.068190   0.000\n",
      "cigsPerDay      1.011106       1.027788    1.019413   0.000\n",
      "totChol         1.000080       1.004491    1.002283   0.042\n",
      "sysBP           1.013404       1.021977    1.017682   0.000\n",
      "glucose         1.004004       1.010626    1.007310   0.000\n"
     ]
    }
   ],
   "source": [
    "params = np.exp(result.params)\n",
    "conf = np.exp(result.conf_int())\n",
    "conf['OR'] = params\n",
    "pvalue=round(result.pvalues,3)\n",
    "conf['pvalue']=pvalue\n",
    "conf.columns = ['CI 95%(2.5%)', 'CI 95%(97.5%)', 'Odds Ratio','pvalue']\n",
    "print ((conf))"
   ]
  },
  {
   "cell_type": "markdown",
   "metadata": {},
   "source": [
    "## Train Test Split"
   ]
  },
  {
   "cell_type": "code",
   "execution_count": 91,
   "metadata": {},
   "outputs": [],
   "source": [
    "import sklearn\n",
    "new_features=heart_df[['age','male','cigsPerDay','totChol','sysBP','glucose','TenYearCHD']]\n",
    "x=new_features.iloc[:,:-1]\n",
    "y=new_features.iloc[:,-1]\n",
    "x_train,x_test,y_train,y_test=train_test_split(x,y,test_size=.20,random_state=5)"
   ]
  },
  {
   "cell_type": "markdown",
   "metadata": {},
   "source": [
    "Accuracy model is 0.85"
   ]
  },
  {
   "cell_type": "code",
   "execution_count": 92,
   "metadata": {},
   "outputs": [],
   "source": [
    "from sklearn.linear_model import LogisticRegression\n",
    "logreg=LogisticRegression()\n",
    "logreg.fit(x_train,y_train)\n",
    "y_pred=logreg.predict(x_test)"
   ]
  },
  {
   "cell_type": "code",
   "execution_count": 68,
   "metadata": {},
   "outputs": [
    {
     "data": {
      "text/plain": [
       "0.8592896174863388"
      ]
     },
     "execution_count": 68,
     "metadata": {},
     "output_type": "execute_result"
    }
   ],
   "source": [
    "sklearn.metrics.accuracy_score(y_test,y_pred)\n"
   ]
  },
  {
   "cell_type": "markdown",
   "metadata": {},
   "source": [
    "## Confusion Matrix"
   ]
  },
  {
   "cell_type": "markdown",
   "metadata": {},
   "source": [
    "True Positives: 8\n",
    "\n",
    "True Negatives: 621\n",
    "\n",
    "False Positives: 7 (Type I error)\n",
    "\n",
    "False Negatives: 96 ( Type II error)"
   ]
  },
  {
   "cell_type": "code",
   "execution_count": 70,
   "metadata": {},
   "outputs": [
    {
     "data": {
      "text/plain": [
       "<matplotlib.axes._subplots.AxesSubplot at 0x7faf6ef58350>"
      ]
     },
     "execution_count": 70,
     "metadata": {},
     "output_type": "execute_result"
    },
    {
     "data": {
      "image/png": "[encoded data removed]",
      "text/plain": [
       "<Figure size 576x360 with 2 Axes>"
      ]
     },
     "metadata": {},
     "output_type": "display_data"
    }
   ],
   "source": [
    "cm=confusion_matrix(y_test,y_pred)\n",
    "conf_matrix=pd.DataFrame(data=cm,columns=['Predicted:0','Predicted:1'],index=['Actual:0','Actual:1'])\n",
    "plt.figure(figsize = (8,5))\n",
    "sns.heatmap(conf_matrix, annot=True,fmt='d',cmap=\"YlGnBu\")"
   ]
  },
  {
   "cell_type": "markdown",
   "metadata": {},
   "source": [
    "## Model Evaluation"
   ]
  },
  {
   "cell_type": "markdown",
   "metadata": {},
   "source": [
    "From the below statistics it is clear that the model is highly specific than sensitive. The negative values are predicted more accurately than the positives."
   ]
  },
  {
   "cell_type": "code",
   "execution_count": 73,
   "metadata": {},
   "outputs": [],
   "source": [
    "TN=cm[0,0]\n",
    "TP=cm[1,1]\n",
    "FN=cm[1,0]\n",
    "FP=cm[0,1]\n",
    "sensitivity=TP/float(TP+FN)\n",
    "specificity=TN/float(TN+FP)"
   ]
  },
  {
   "cell_type": "code",
   "execution_count": 74,
   "metadata": {},
   "outputs": [
    {
     "name": "stdout",
     "output_type": "stream",
     "text": [
      "The acuuracy of the model = TP+TN/(TP+TN+FP+FN) =  0.8592896174863388 \n",
      " The Missclassification = 1-Accuracy =  0.1407103825136612 \n",
      " Sensitivity or True Positive Rate = TP/(TP+FN) =  0.07692307692307693 \n",
      " Specificity or True Negative Rate = TN/(TN+FP) =  0.9888535031847133 \n",
      " Positive Predictive value = TP/(TP+FP) =  0.5333333333333333 \n",
      " Negative predictive Value = TN/(TN+FN) =  0.8661087866108786 \n",
      " Positive Likelihood Ratio = Sensitivity/(1-Specificity) =  6.901098901098869 \n",
      " Negative likelihood Ratio = (1-Sensitivity)/Specificity =  0.9334819769602379\n"
     ]
    }
   ],
   "source": [
    "print('The acuuracy of the model = TP+TN/(TP+TN+FP+FN) = ',(TP+TN)/float(TP+TN+FP+FN),'\\n',\n",
    "\n",
    "'The Missclassification = 1-Accuracy = ',1-((TP+TN)/float(TP+TN+FP+FN)),'\\n',\n",
    "\n",
    "'Sensitivity or True Positive Rate = TP/(TP+FN) = ',TP/float(TP+FN),'\\n',\n",
    "\n",
    "'Specificity or True Negative Rate = TN/(TN+FP) = ',TN/float(TN+FP),'\\n',\n",
    "\n",
    "'Positive Predictive value = TP/(TP+FP) = ',TP/float(TP+FP),'\\n',\n",
    "\n",
    "'Negative predictive Value = TN/(TN+FN) = ',TN/float(TN+FN),'\\n',\n",
    "\n",
    "'Positive Likelihood Ratio = Sensitivity/(1-Specificity) = ',sensitivity/(1-specificity),'\\n',\n",
    "\n",
    "'Negative likelihood Ratio = (1-Sensitivity)/Specificity = ',(1-sensitivity)/specificity)"
   ]
  },
  {
   "cell_type": "markdown",
   "metadata": {},
   "source": [
    "## Precision"
   ]
  },
  {
   "cell_type": "markdown",
   "metadata": {},
   "source": [
    "What are the relevant(what you have predicted and actual are matching. ) positive CHD patients out of entire positive CHD predictions. \n",
    "\n",
    "Calling some people + symptoms some people -. Some are really + and some are really -. Precison is out of positive predictions how many times I was correct. Precision focusing on user prediction. Recall focuses on Actual situation. "
   ]
  },
  {
   "cell_type": "code",
   "execution_count": 82,
   "metadata": {},
   "outputs": [
    {
     "data": {
      "text/plain": [
       "0.5333333333333333"
      ]
     },
     "execution_count": 82,
     "metadata": {},
     "output_type": "execute_result"
    }
   ],
   "source": [
    "# Precison\n",
    "Precision = TP/(TP+FP)\n",
    "Precision"
   ]
  },
  {
   "cell_type": "markdown",
   "metadata": {},
   "source": [
    "## Recall"
   ]
  },
  {
   "cell_type": "markdown",
   "metadata": {},
   "source": [
    "Fraction of actual CHD patients to the number of CHD patients retrieved from population. \n",
    "\n",
    "100 patients, some have symptoms, others do not. We predicted some have disease. Recall: Out of all patients that have symptoms, how many were correctly predicted/detect symptoms correctly. Best way to have perfect recall is to say everyone has symptoms. because you won't miss any sick patients. "
   ]
  },
  {
   "cell_type": "code",
   "execution_count": 83,
   "metadata": {},
   "outputs": [
    {
     "data": {
      "text/plain": [
       "0.07692307692307693"
      ]
     },
     "execution_count": 83,
     "metadata": {},
     "output_type": "execute_result"
    }
   ],
   "source": [
    "# Recall\n",
    "Recall = TP/(TP+FN)\n",
    "Recall"
   ]
  },
  {
   "cell_type": "markdown",
   "metadata": {},
   "source": [
    "## F1_Score"
   ]
  },
  {
   "cell_type": "markdown",
   "metadata": {},
   "source": [
    "Harmonic mean of precision and recall. We consider F1_score because it balances between precision and recall. "
   ]
  },
  {
   "cell_type": "code",
   "execution_count": 84,
   "metadata": {},
   "outputs": [
    {
     "data": {
      "text/plain": [
       "0.13445378151260504"
      ]
     },
     "execution_count": 84,
     "metadata": {},
     "output_type": "execute_result"
    }
   ],
   "source": [
    "# F1 Score\n",
    "F1_Score = 2*(Recall * Precision) / (Recall + Precision)\n",
    "F1_Score"
   ]
  },
  {
   "cell_type": "code",
   "execution_count": 85,
   "metadata": {},
   "outputs": [
    {
     "data": {
      "text/html": [
       "<div>\n",
       "<style scoped>\n",
       "    .dataframe tbody tr th:only-of-type {\n",
       "        vertical-align: middle;\n",
       "    }\n",
       "\n",
       "    .dataframe tbody tr th {\n",
       "        vertical-align: top;\n",
       "    }\n",
       "\n",
       "    .dataframe thead th {\n",
       "        text-align: right;\n",
       "    }\n",
       "</style>\n",
       "<table border=\"1\" class=\"dataframe\">\n",
       "  <thead>\n",
       "    <tr style=\"text-align: right;\">\n",
       "      <th></th>\n",
       "      <th>Prob of no heart disease (0)</th>\n",
       "      <th>Prob of Heart Disease (1)</th>\n",
       "    </tr>\n",
       "  </thead>\n",
       "  <tbody>\n",
       "    <tr>\n",
       "      <th>0</th>\n",
       "      <td>0.960481</td>\n",
       "      <td>0.039519</td>\n",
       "    </tr>\n",
       "    <tr>\n",
       "      <th>1</th>\n",
       "      <td>0.965880</td>\n",
       "      <td>0.034120</td>\n",
       "    </tr>\n",
       "    <tr>\n",
       "      <th>2</th>\n",
       "      <td>0.609298</td>\n",
       "      <td>0.390702</td>\n",
       "    </tr>\n",
       "    <tr>\n",
       "      <th>3</th>\n",
       "      <td>0.819423</td>\n",
       "      <td>0.180577</td>\n",
       "    </tr>\n",
       "    <tr>\n",
       "      <th>4</th>\n",
       "      <td>0.807793</td>\n",
       "      <td>0.192207</td>\n",
       "    </tr>\n",
       "  </tbody>\n",
       "</table>\n",
       "</div>"
      ],
      "text/plain": [
       "   Prob of no heart disease (0)  Prob of Heart Disease (1)\n",
       "0                      0.960481                   0.039519\n",
       "1                      0.965880                   0.034120\n",
       "2                      0.609298                   0.390702\n",
       "3                      0.819423                   0.180577\n",
       "4                      0.807793                   0.192207"
      ]
     },
     "execution_count": 85,
     "metadata": {},
     "output_type": "execute_result"
    }
   ],
   "source": [
    "y_pred_prob=logreg.predict_proba(x_test)[:,:]\n",
    "y_pred_prob_df=pd.DataFrame(data=y_pred_prob, columns=['Prob of no heart disease (0)','Prob of Heart Disease (1)'])\n",
    "y_pred_prob_df.head()"
   ]
  },
  {
   "cell_type": "markdown",
   "metadata": {},
   "source": [
    "## Area Under Curve\n"
   ]
  },
  {
   "cell_type": "markdown",
   "metadata": {},
   "source": [
    "The area under the ROC curve quantifies model classification accuracy; the higher the area, the greater the disparity between true and false positives, and the stronger the model in classifying members of the training dataset. An area of 0.5 corresponds to a model that performs no better than random classification and a good classifier stays as far away from that as possible. An area of 1 is ideal. The closer the AUC to 1 the better."
   ]
  },
  {
   "cell_type": "code",
   "execution_count": 86,
   "metadata": {},
   "outputs": [
    {
     "name": "stdout",
     "output_type": "stream",
     "text": [
      "With 0.1 threshold the Confusion Matrix is  \n",
      " [[299 329]\n",
      " [ 16  88]] \n",
      " with 387 correct predictions and 16 Type II errors( False Negatives) \n",
      "\n",
      " Sensitivity:  0.8461538461538461 Specificity:  0.47611464968152867 \n",
      "\n",
      "\n",
      "\n",
      "With 0.2 threshold the Confusion Matrix is  \n",
      " [[486 142]\n",
      " [ 50  54]] \n",
      " with 540 correct predictions and 50 Type II errors( False Negatives) \n",
      "\n",
      " Sensitivity:  0.5192307692307693 Specificity:  0.7738853503184714 \n",
      "\n",
      "\n",
      "\n",
      "With 0.3 threshold the Confusion Matrix is  \n",
      " [[561  67]\n",
      " [ 71  33]] \n",
      " with 594 correct predictions and 71 Type II errors( False Negatives) \n",
      "\n",
      " Sensitivity:  0.3173076923076923 Specificity:  0.893312101910828 \n",
      "\n",
      "\n",
      "\n",
      "With 0.4 threshold the Confusion Matrix is  \n",
      " [[603  25]\n",
      " [ 86  18]] \n",
      " with 621 correct predictions and 86 Type II errors( False Negatives) \n",
      "\n",
      " Sensitivity:  0.17307692307692307 Specificity:  0.9601910828025477 \n",
      "\n",
      "\n",
      "\n"
     ]
    },
    {
     "name": "stderr",
     "output_type": "stream",
     "text": [
      "/opt/anaconda3/lib/python3.7/site-packages/sklearn/utils/validation.py:70: FutureWarning: Pass threshold=0.1 as keyword args. From version 0.25 passing these as positional arguments will result in an error\n",
      "  FutureWarning)\n",
      "/opt/anaconda3/lib/python3.7/site-packages/sklearn/utils/validation.py:70: FutureWarning: Pass threshold=0.2 as keyword args. From version 0.25 passing these as positional arguments will result in an error\n",
      "  FutureWarning)\n",
      "/opt/anaconda3/lib/python3.7/site-packages/sklearn/utils/validation.py:70: FutureWarning: Pass threshold=0.3 as keyword args. From version 0.25 passing these as positional arguments will result in an error\n",
      "  FutureWarning)\n",
      "/opt/anaconda3/lib/python3.7/site-packages/sklearn/utils/validation.py:70: FutureWarning: Pass threshold=0.4 as keyword args. From version 0.25 passing these as positional arguments will result in an error\n",
      "  FutureWarning)\n"
     ]
    }
   ],
   "source": [
    "from sklearn.preprocessing import binarize\n",
    "\n",
    "for i in range(1,5):\n",
    "    cm2=0\n",
    "    y_pred_prob_yes=logreg.predict_proba(x_test)\n",
    "    y_pred2=binarize(y_pred_prob_yes,i/10)[:,1]\n",
    "    cm2=confusion_matrix(y_test,y_pred2)\n",
    "    print ('With',i/10,'threshold the Confusion Matrix is ','\\n',cm2,'\\n',\n",
    "            'with',cm2[0,0]+cm2[1,1],'correct predictions and',cm2[1,0],'Type II errors( False Negatives)','\\n\\n',\n",
    "          'Sensitivity: ',cm2[1,1]/(float(cm2[1,1]+cm2[1,0])),'Specificity: ',cm2[0,0]/(float(cm2[0,0]+cm2[0,1])),'\\n\\n\\n')"
   ]
  },
  {
   "cell_type": "code",
   "execution_count": 87,
   "metadata": {},
   "outputs": [
    {
     "data": {
      "image/png": "[encoded data removed]",
      "text/plain": [
       "<Figure size 432x288 with 1 Axes>"
      ]
     },
     "metadata": {},
     "output_type": "display_data"
    }
   ],
   "source": [
    "from sklearn.metrics import roc_curve\n",
    "fpr, tpr, thresholds = roc_curve(y_test, y_pred_prob_yes[:,1])\n",
    "plt.plot(fpr,tpr)\n",
    "plt.xlim([0.0, 1.0])\n",
    "plt.ylim([0.0, 1.0])\n",
    "plt.title('ROC curve for Heart disease classifier')\n",
    "plt.xlabel('False positive rate (1-Specificity)')\n",
    "plt.ylabel('True positive rate (Sensitivity)')\n",
    "plt.grid(True)"
   ]
  },
  {
   "cell_type": "code",
   "execution_count": 88,
   "metadata": {},
   "outputs": [
    {
     "data": {
      "text/plain": [
       "0.7144322635962763"
      ]
     },
     "execution_count": 88,
     "metadata": {},
     "output_type": "execute_result"
    }
   ],
   "source": [
    "sklearn.metrics.roc_auc_score(y_test,y_pred_prob_yes[:,1])\n"
   ]
  },
  {
   "cell_type": "markdown",
   "metadata": {},
   "source": [
    "# Conclusion Summary"
   ]
  },
  {
   "cell_type": "markdown",
   "metadata": {},
   "source": [
    "- Men seem to be more susceptible to heart disease than women.Increase in Age,number of cigarettes smoked per day and systolic Blood Pressure also show increasing odds of having heart disease\n",
    "\n",
    "- The model predicted with 0.85 accuracy. The model is more specific than sensitive\n",
    "\n",
    "- The Area under the ROC curve is 71.4 which is somewhat satisfactory."
   ]
  },
  {
   "cell_type": "code",
   "execution_count": null,
   "metadata": {},
   "outputs": [],
   "source": []
  }
 ],
 "metadata": {
  "kernelspec": {
   "display_name": "Python 3",
   "language": "python",
   "name": "python3"
  },
  "language_info": {
   "codemirror_mode": {
    "name": "ipython",
    "version": 3
   },
   "file_extension": ".py",
   "mimetype": "text/x-python",
   "name": "python",
   "nbconvert_exporter": "python",
   "pygments_lexer": "ipython3",
   "version": "3.7.6"
  },
  "latex_envs": {
   "LaTeX_envs_menu_present": true,
   "autoclose": true,
   "autocomplete": true,
   "bibliofile": "biblio.bib",
   "cite_by": "apalike",
   "current_citInitial": 1,
   "eqLabelWithNumbers": true,
   "eqNumInitial": 1,
   "hotkeys": {
    "equation": "Ctrl-E",
    "itemize": "Ctrl-I"
   },
   "labels_anchors": false,
   "latex_user_defs": false,
   "report_style_numbering": true,
   "user_envs_cfg": true
  },
  "toc": {
   "base_numbering": 1,
   "nav_menu": {},
   "number_sections": true,
   "sideBar": true,
   "skip_h1_title": false,
   "title_cell": "Table of Contents",
   "title_sidebar": "Contents",
   "toc_cell": true,
   "toc_position": {
    "height": "calc(100% - 180px)",
    "left": "10px",
    "top": "150px",
    "width": "439.105px"
   },
   "toc_section_display": true,
   "toc_window_display": false
  }
 },
 "nbformat": 4,
 "nbformat_minor": 4
}
